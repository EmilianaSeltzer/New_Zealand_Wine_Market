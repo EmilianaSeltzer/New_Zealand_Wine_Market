{
 "cells": [
  {
   "cell_type": "code",
   "execution_count": 3,
   "id": "478711b6-337a-41f6-a6f7-80f9fdcafe7b",
   "metadata": {},
   "outputs": [],
   "source": [
    "import pandas as pd\n",
    "\n",
    "# Cargar el archivo CSV\n",
    "file_path = 'C:\\Data\\Average export price for New Zealand wine.csv'"
   ]
  },
  {
   "cell_type": "code",
   "execution_count": 4,
   "id": "966da10c-cf43-4d4e-9db7-b9ec38517151",
   "metadata": {},
   "outputs": [],
   "source": [
    "df = pd.read_csv(file_path)"
   ]
  },
  {
   "cell_type": "code",
   "execution_count": 5,
   "id": "0fc0d7f3-70dd-4651-96bc-959492b4dc88",
   "metadata": {},
   "outputs": [
    {
     "name": "stdout",
     "output_type": "stream",
     "text": [
      "  Year_ended_June  Series Sector          Subsector        Measure     Value  \\\n",
      "0            2004  Actual  Dairy  Whole milk powder  Export volume  660359.0   \n",
      "1            2005  Actual  Dairy  Whole milk powder  Export volume  578231.0   \n",
      "2            2006  Actual  Dairy  Whole milk powder  Export volume  643853.0   \n",
      "3            2007  Actual  Dairy  Whole milk powder  Export volume  652448.0   \n",
      "4            2008  Actual  Dairy  Whole milk powder  Export volume  632411.0   \n",
      "\n",
      "  Value_Unit Value_Label  Null_Reason Metadata_1  Metadata_2  \n",
      "0     number      Tonnes          NaN        NaN         NaN  \n",
      "1     number      Tonnes          NaN        NaN         NaN  \n",
      "2     number      Tonnes          NaN        NaN         NaN  \n",
      "3     number      Tonnes          NaN        NaN         NaN  \n",
      "4     number      Tonnes          NaN        NaN         NaN  \n"
     ]
    }
   ],
   "source": [
    "print(df.head())\n"
   ]
  },
  {
   "cell_type": "code",
   "execution_count": 6,
   "id": "c7f7ca4e-9f91-4535-9b67-ca997c0b3a9f",
   "metadata": {},
   "outputs": [
    {
     "name": "stdout",
     "output_type": "stream",
     "text": [
      "['Year_ended_June', 'Series', 'Sector', 'Subsector', 'Measure', 'Value', 'Value_Unit', 'Value_Label', 'Null_Reason', 'Metadata_1', 'Metadata_2']\n"
     ]
    }
   ],
   "source": [
    "print(df.columns.tolist())"
   ]
  },
  {
   "cell_type": "code",
   "execution_count": 7,
   "id": "b3e55fbf-8ac9-471f-8d0b-530fa3b3f6c4",
   "metadata": {},
   "outputs": [],
   "source": [
    "df.columns = df.columns.str.strip()"
   ]
  },
  {
   "cell_type": "code",
   "execution_count": 8,
   "id": "8a1527db-e62f-4a3a-8b97-dbb91104e6d9",
   "metadata": {},
   "outputs": [],
   "source": [
    "clean_file_path = 'C:\\Data\\Clean_Average_export_price_for_New_Zealand_wine.csv'\n",
    "df.to_csv(clean_file_path, index=False)"
   ]
  },
  {
   "cell_type": "code",
   "execution_count": 9,
   "id": "cc6196dc-7e35-4b65-afdf-eac187681711",
   "metadata": {},
   "outputs": [
    {
     "name": "stdout",
     "output_type": "stream",
     "text": [
      "Archivo CSV limpio guardado en: C:\\Data\\Clean_Average_export_price_for_New_Zealand_wine.csv\n"
     ]
    }
   ],
   "source": [
    "print(\"Archivo CSV limpio guardado en:\", clean_file_path)"
   ]
  },
  {
   "cell_type": "code",
   "execution_count": 10,
   "id": "d9e8b190-b7fc-48c3-b546-db609ff08a76",
   "metadata": {},
   "outputs": [],
   "source": [
    "file_path_2 = 'C:\\Data\\The best wine producers in the world.csv'\n",
    "df_2 = pd.read_csv(file_path_2)"
   ]
  },
  {
   "cell_type": "code",
   "execution_count": 11,
   "id": "f2727619-208d-412c-926c-55c225fb6583",
   "metadata": {},
   "outputs": [],
   "source": [
    "df_2.columns = df_2.columns.str.strip()"
   ]
  },
  {
   "cell_type": "code",
   "execution_count": 12,
   "id": "724c5e57-1e22-4f19-bf2c-23e4808d248d",
   "metadata": {},
   "outputs": [
    {
     "name": "stdout",
     "output_type": "stream",
     "text": [
      "                                 Country  Vineyards_hectares  \\\n",
      "0        France,\"789,000\",49.1,29.5,82.3                 NaN   \n",
      "1         Italy,\"702,000\",54.8,19.6,81.1                 NaN   \n",
      "2          Spain,\"969,000\",44.4,9.4,80.2                 NaN   \n",
      "3  United States,\"430,000\",23.9,3.9,82.6                 NaN   \n",
      "4             China,\"875,000\",9.3,1,69.5                 NaN   \n",
      "\n",
      "   Wine_Produced_million_hectolitres  Global_Exports  Av_Rating  \n",
      "0                                NaN             NaN        NaN  \n",
      "1                                NaN             NaN        NaN  \n",
      "2                                NaN             NaN        NaN  \n",
      "3                                NaN             NaN        NaN  \n",
      "4                                NaN             NaN        NaN  \n"
     ]
    }
   ],
   "source": [
    "print(df_2.head())"
   ]
  },
  {
   "cell_type": "code",
   "execution_count": 13,
   "id": "fca3261a-aa38-461d-8aa5-3ddc9ec3166c",
   "metadata": {},
   "outputs": [],
   "source": [
    "df_2 = pd.read_csv(file_path_2, quotechar='\"', thousands=',')"
   ]
  },
  {
   "cell_type": "code",
   "execution_count": 14,
   "id": "c7b2bbde-795b-47a2-a031-e582bfff3cd7",
   "metadata": {},
   "outputs": [
    {
     "name": "stdout",
     "output_type": "stream",
     "text": [
      "                                  Country  Vineyards_hectares  \\\n",
      "0         France,\"789,000\",49.1,29.5,82.3                 NaN   \n",
      "1          Italy,\"702,000\",54.8,19.6,81.1                 NaN   \n",
      "2           Spain,\"969,000\",44.4,9.4,80.2                 NaN   \n",
      "3   United States,\"430,000\",23.9,3.9,82.6                 NaN   \n",
      "4              China,\"875,000\",9.3,1,69.5                 NaN   \n",
      "5           Chile,\"212,000\",12.9,5.3,78.6                 NaN   \n",
      "6       Australia,\"145,000\",12.9,5.8,80.7                 NaN   \n",
      "7         Argentina,\"219,000\",14.5,2.2,80                 NaN   \n",
      "8          Turkey,\"448,000\",0.5,0.03,77.9                 NaN   \n",
      "9          Germany,\"103,000\",9.8,3.3,80.9                 NaN   \n",
      "10        Portugal,\"192,000\",6.1,2.5,80.2                 NaN   \n",
      "11    South Africa,\"125,000\",9.5,2.1,80.3                 NaN   \n",
      "12         Romania,\"191,000\",5.1,0.1,77.9                 NaN   \n",
      "13        New Zealand,\"39,000\",3,3.2,80.9                 NaN   \n",
      "14          Greece,\"106,000\",2.2,0.3,79.7                 NaN   \n",
      "15            Austria,\"48,000\",2.8,0.6,80                 NaN   \n",
      "16          Brazil,\"82,000\",3.1,0.02,78.3                 NaN   \n",
      "17          Hungary,\"69,000\",3.6,0.3,77.8                 NaN   \n",
      "18           Bulgaria,\"64,000\",1,0.1,80.3                 NaN   \n",
      "19      Switzerland,\"15,000\",1.1,0.4,79.7                 NaN   \n",
      "\n",
      "    Wine_Produced_million_hectolitres  Global_Exports  Av_Rating  \n",
      "0                                 NaN             NaN        NaN  \n",
      "1                                 NaN             NaN        NaN  \n",
      "2                                 NaN             NaN        NaN  \n",
      "3                                 NaN             NaN        NaN  \n",
      "4                                 NaN             NaN        NaN  \n",
      "5                                 NaN             NaN        NaN  \n",
      "6                                 NaN             NaN        NaN  \n",
      "7                                 NaN             NaN        NaN  \n",
      "8                                 NaN             NaN        NaN  \n",
      "9                                 NaN             NaN        NaN  \n",
      "10                                NaN             NaN        NaN  \n",
      "11                                NaN             NaN        NaN  \n",
      "12                                NaN             NaN        NaN  \n",
      "13                                NaN             NaN        NaN  \n",
      "14                                NaN             NaN        NaN  \n",
      "15                                NaN             NaN        NaN  \n",
      "16                                NaN             NaN        NaN  \n",
      "17                                NaN             NaN        NaN  \n",
      "18                                NaN             NaN        NaN  \n",
      "19                                NaN             NaN        NaN  \n"
     ]
    }
   ],
   "source": [
    "print(df_2)"
   ]
  },
  {
   "cell_type": "code",
   "execution_count": 15,
   "id": "b97904e7-9135-4389-a174-5dc21afcb0d0",
   "metadata": {},
   "outputs": [],
   "source": [
    "df_2 = pd.read_csv(file_path_2, sep=',', quotechar='\"', thousands=',')"
   ]
  },
  {
   "cell_type": "code",
   "execution_count": 16,
   "id": "e54bd9e9-26e2-4b78-83a1-77576be4eb1d",
   "metadata": {},
   "outputs": [
    {
     "name": "stdout",
     "output_type": "stream",
     "text": [
      "                                  Country  Vineyards_hectares  \\\n",
      "0         France,\"789,000\",49.1,29.5,82.3                 NaN   \n",
      "1          Italy,\"702,000\",54.8,19.6,81.1                 NaN   \n",
      "2           Spain,\"969,000\",44.4,9.4,80.2                 NaN   \n",
      "3   United States,\"430,000\",23.9,3.9,82.6                 NaN   \n",
      "4              China,\"875,000\",9.3,1,69.5                 NaN   \n",
      "5           Chile,\"212,000\",12.9,5.3,78.6                 NaN   \n",
      "6       Australia,\"145,000\",12.9,5.8,80.7                 NaN   \n",
      "7         Argentina,\"219,000\",14.5,2.2,80                 NaN   \n",
      "8          Turkey,\"448,000\",0.5,0.03,77.9                 NaN   \n",
      "9          Germany,\"103,000\",9.8,3.3,80.9                 NaN   \n",
      "10        Portugal,\"192,000\",6.1,2.5,80.2                 NaN   \n",
      "11    South Africa,\"125,000\",9.5,2.1,80.3                 NaN   \n",
      "12         Romania,\"191,000\",5.1,0.1,77.9                 NaN   \n",
      "13        New Zealand,\"39,000\",3,3.2,80.9                 NaN   \n",
      "14          Greece,\"106,000\",2.2,0.3,79.7                 NaN   \n",
      "15            Austria,\"48,000\",2.8,0.6,80                 NaN   \n",
      "16          Brazil,\"82,000\",3.1,0.02,78.3                 NaN   \n",
      "17          Hungary,\"69,000\",3.6,0.3,77.8                 NaN   \n",
      "18           Bulgaria,\"64,000\",1,0.1,80.3                 NaN   \n",
      "19      Switzerland,\"15,000\",1.1,0.4,79.7                 NaN   \n",
      "\n",
      "    Wine_Produced_million_hectolitres  Global_Exports  Av_Rating  \n",
      "0                                 NaN             NaN        NaN  \n",
      "1                                 NaN             NaN        NaN  \n",
      "2                                 NaN             NaN        NaN  \n",
      "3                                 NaN             NaN        NaN  \n",
      "4                                 NaN             NaN        NaN  \n",
      "5                                 NaN             NaN        NaN  \n",
      "6                                 NaN             NaN        NaN  \n",
      "7                                 NaN             NaN        NaN  \n",
      "8                                 NaN             NaN        NaN  \n",
      "9                                 NaN             NaN        NaN  \n",
      "10                                NaN             NaN        NaN  \n",
      "11                                NaN             NaN        NaN  \n",
      "12                                NaN             NaN        NaN  \n",
      "13                                NaN             NaN        NaN  \n",
      "14                                NaN             NaN        NaN  \n",
      "15                                NaN             NaN        NaN  \n",
      "16                                NaN             NaN        NaN  \n",
      "17                                NaN             NaN        NaN  \n",
      "18                                NaN             NaN        NaN  \n",
      "19                                NaN             NaN        NaN  \n"
     ]
    }
   ],
   "source": [
    "print(df_2)"
   ]
  },
  {
   "cell_type": "code",
   "execution_count": 17,
   "id": "e2babe64-d1e0-440e-870a-5ce85fc93165",
   "metadata": {},
   "outputs": [],
   "source": [
    "with open(file_path_2, 'r') as file:\n",
    "    lines = file.readlines()"
   ]
  },
  {
   "cell_type": "code",
   "execution_count": 18,
   "id": "cd185ca7-4da6-4a28-ab14-314352b285f9",
   "metadata": {},
   "outputs": [],
   "source": [
    "cleaned_lines = [line.replace('\"\"', '').replace('\"', '') for line in lines]"
   ]
  },
  {
   "cell_type": "code",
   "execution_count": 19,
   "id": "63a73748-e783-4ea5-8377-a39dce3040c1",
   "metadata": {},
   "outputs": [],
   "source": [
    "temp_file_path = 'C:/Data/cleaned_world_best_wine.csv'\n",
    "with open(temp_file_path, 'w') as file:\n",
    "    file.writelines(cleaned_lines)"
   ]
  },
  {
   "cell_type": "code",
   "execution_count": 20,
   "id": "7884d5ec-d721-47b0-b0dc-fe850d10c84f",
   "metadata": {},
   "outputs": [],
   "source": [
    "df_3 = pd.read_csv(temp_file_path)\n"
   ]
  },
  {
   "cell_type": "code",
   "execution_count": 21,
   "id": "39870358-c08a-4aec-b9b7-6f5ba18b9a4a",
   "metadata": {},
   "outputs": [
    {
     "name": "stdout",
     "output_type": "stream",
     "text": [
      "               Country  Vineyards_hectares  Wine_Produced_million_hectolitres  \\\n",
      "France             789                   0                               49.1   \n",
      "Italy              702                   0                               54.8   \n",
      "Spain              969                   0                               44.4   \n",
      "United States      430                   0                               23.9   \n",
      "China              875                   0                                9.3   \n",
      "Chile              212                   0                               12.9   \n",
      "Australia          145                   0                               12.9   \n",
      "Argentina          219                   0                               14.5   \n",
      "Turkey             448                   0                                0.5   \n",
      "Germany            103                   0                                9.8   \n",
      "Portugal           192                   0                                6.1   \n",
      "South Africa       125                   0                                9.5   \n",
      "Romania            191                   0                                5.1   \n",
      "New Zealand         39                   0                                3.0   \n",
      "Greece             106                   0                                2.2   \n",
      "Austria             48                   0                                2.8   \n",
      "Brazil              82                   0                                3.1   \n",
      "Hungary             69                   0                                3.6   \n",
      "Bulgaria            64                   0                                1.0   \n",
      "Switzerland         15                   0                                1.1   \n",
      "\n",
      "               Global_Exports  Av_Rating  \n",
      "France                  29.50       82.3  \n",
      "Italy                   19.60       81.1  \n",
      "Spain                    9.40       80.2  \n",
      "United States            3.90       82.6  \n",
      "China                    1.00       69.5  \n",
      "Chile                    5.30       78.6  \n",
      "Australia                5.80       80.7  \n",
      "Argentina                2.20       80.0  \n",
      "Turkey                   0.03       77.9  \n",
      "Germany                  3.30       80.9  \n",
      "Portugal                 2.50       80.2  \n",
      "South Africa             2.10       80.3  \n",
      "Romania                  0.10       77.9  \n",
      "New Zealand              3.20       80.9  \n",
      "Greece                   0.30       79.7  \n",
      "Austria                  0.60       80.0  \n",
      "Brazil                   0.02       78.3  \n",
      "Hungary                  0.30       77.8  \n",
      "Bulgaria                 0.10       80.3  \n",
      "Switzerland              0.40       79.7  \n"
     ]
    }
   ],
   "source": [
    "print(df_3)"
   ]
  },
  {
   "cell_type": "code",
   "execution_count": null,
   "id": "8876c680-9bc0-4268-b615-8327cec49b47",
   "metadata": {},
   "outputs": [],
   "source": []
  }
 ],
 "metadata": {
  "kernelspec": {
   "display_name": "Python 3 (ipykernel)",
   "language": "python",
   "name": "python3"
  },
  "language_info": {
   "codemirror_mode": {
    "name": "ipython",
    "version": 3
   },
   "file_extension": ".py",
   "mimetype": "text/x-python",
   "name": "python",
   "nbconvert_exporter": "python",
   "pygments_lexer": "ipython3",
   "version": "3.11.7"
  }
 },
 "nbformat": 4,
 "nbformat_minor": 5
}
